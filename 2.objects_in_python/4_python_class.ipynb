{
 "cells": [
  {
   "cell_type": "markdown",
   "metadata": {},
   "source": [
    "### Let's create a class without providing instance variable self\n",
    "*it will throw an error*"
   ]
  },
  {
   "cell_type": "code",
   "execution_count": null,
   "metadata": {},
   "outputs": [],
   "source": [
    "class Point:\n",
    "    def reset():\n",
    "        pass\n",
    "\n",
    "p = Point()\n",
    "p.reset()"
   ]
  },
  {
   "cell_type": "markdown",
   "metadata": {},
   "source": [
    "#### More arguments\n",
    "\n",
    "**claculate distance**\n",
    "- calculate_distance() method computes the Euclidean distance between two points\n",
    "- found no explanation about the other:\"point\" thing -but it worked as the parameter where you can pass another Point objec"
   ]
  },
  {
   "cell_type": "code",
   "execution_count": null,
   "metadata": {},
   "outputs": [],
   "source": [
    "import math\n",
    "\n",
    "class Point:\n",
    "    def move(self, x:float, y:float) -> None:\n",
    "        self.x = x\n",
    "        self.y = y\n",
    "    \n",
    "    def reset(self) -> None:\n",
    "        self.move(0, 0)\n",
    "    \n",
    "    def calculate_distance(self, other: \"Point\") -> float:\n",
    "        return math.hypot(self.x - other.x, self.y - other.y)\n",
    "\n",
    "\n",
    "point_1 = Point()\n",
    "point_2 = Point()\n",
    "\n",
    "point_1.reset()\n",
    "point_2.move(5, 0)\n",
    "print(point_2.calculate_distance(point_1))\n",
    "\n",
    "point_2.move(3,4)\n",
    "print(point_1.calculate_distance(point_2))\n",
    "print(point_1.calculate_distance(point_1))\n"
   ]
  },
  {
   "cell_type": "markdown",
   "metadata": {},
   "source": [
    "#### Initializing the object\n",
    "- it will throw an error if no arguemnt is provided during creatign an object like the point_2\n",
    "- Python is a little different; it has a constructor and an initializer.\n",
    "- The constructor method, __ new __(), is rarely used \n",
    "- we put our initialization statements in an __ init __() function\n"
   ]
  },
  {
   "cell_type": "code",
   "execution_count": 2,
   "metadata": {},
   "outputs": [
    {
     "name": "stdout",
     "output_type": "stream",
     "text": [
      "3 5\n"
     ]
    }
   ],
   "source": [
    "import math\n",
    "\n",
    "class Point:\n",
    "    def __init__(self, x:float, y:float) -> None:\n",
    "        self.move(x,y)\n",
    "    \n",
    "    def move(self, x:float, y:float) -> None:\n",
    "        self.x = x\n",
    "        self.y = y\n",
    "    \n",
    "    def reset(self) -> None:\n",
    "        self.move(0, 0)\n",
    "\n",
    "    def calculate_distance(self, other:\"Point\") -> float:\n",
    "        return math.hypot(self.x - other.x, self.y-other.y)\n",
    "\n",
    "point = Point(3, 5)\n",
    "print(point.x, point.y)\n",
    "\n",
    "#point_2 = Point()"
   ]
  },
  {
   "cell_type": "markdown",
   "metadata": {},
   "source": [
    "#### Explaining yourself with docstrings\n",
    "\n",
    "- One of the best things to include in a docstring is a concrete example\n",
    "- Tools like doctest can locate and confirm these examples are correct\n"
   ]
  },
  {
   "cell_type": "code",
   "execution_count": null,
   "metadata": {},
   "outputs": [],
   "source": [
    "class Point:\n",
    "    \"\"\"\n",
    "    Represents a point in two-dimensional geopetric coordinates\n",
    "    >>> P_0 = Point()\n",
    "    >>> p_1 = Point(3,4)\n",
    "    >>> p_0.calculate_distance(p_1)\n",
    "    5.0\n",
    "    \"\"\"\n",
    "\n",
    "    def __init__(self, x:float=0, y: float = 0) -> None:\n",
    "        \"\"\"\n",
    "        Initialize the position of new point. the x and y\n",
    "        coordinates can be specified. If they are not, the \n",
    "        point defaults to the origin.\n",
    "\n",
    "        :param x: float x-coordinate\n",
    "        :param y: float x-coordinate\n",
    "        \"\"\"\n",
    "        self.move(x,y)\n",
    "    \n",
    "    def move(self, x:float, y:float) -> None:\n",
    "        \"\"\"\n",
    "        Move the point to a new locaiton in 2D space.\n",
    "\n",
    "        :param x: float x-coordinate\n",
    "        :param y: float x-coordinate\n",
    "        \"\"\"\n",
    "        self.x = x\n",
    "        self.y = y\n",
    "\n",
    "    \n",
    "    def reset(self) -> None:\n",
    "        \"\"\" \n",
    "        Reset the point back to the geometric origin: 0, 0\n",
    "        \"\"\"\n",
    "        self.move(0, 0)\n",
    "\n",
    "    def calculate_distance(self, other: \"Point\") -> float:\n",
    "        \"\"\" \n",
    "        Calculate the Euclidean distance form this point\n",
    "        to a second point passed as parameter.\n",
    "\n",
    "        :param other: POint instance\n",
    "        :return: float distance\n",
    "        \"\"\"\n",
    "        return math.hypot(self.x - other.x, self.y - other.y)\n",
    "    "
   ]
  }
 ],
 "metadata": {
  "kernelspec": {
   "display_name": "Python 3",
   "language": "python",
   "name": "python3"
  },
  "language_info": {
   "codemirror_mode": {
    "name": "ipython",
    "version": 3
   },
   "file_extension": ".py",
   "mimetype": "text/x-python",
   "name": "python",
   "nbconvert_exporter": "python",
   "pygments_lexer": "ipython3",
   "version": "3.10.12"
  }
 },
 "nbformat": 4,
 "nbformat_minor": 2
}
