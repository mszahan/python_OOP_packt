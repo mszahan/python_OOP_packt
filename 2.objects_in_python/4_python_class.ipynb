{
 "cells": [
  {
   "cell_type": "markdown",
   "metadata": {},
   "source": [
    "### Let's create a class without providing instance variable self\n",
    "*it will throw an error*"
   ]
  },
  {
   "cell_type": "code",
   "execution_count": null,
   "metadata": {},
   "outputs": [],
   "source": [
    "class Point:\n",
    "    def reset():\n",
    "        pass\n",
    "\n",
    "p = Point()\n",
    "p.reset()"
   ]
  },
  {
   "cell_type": "markdown",
   "metadata": {},
   "source": [
    "#### More arguments\n",
    "\n",
    "**claculate distance**\n",
    "- calculate_distance() method computes the Euclidean distance between two points\n",
    "- found no explanation about the other:\"point\" thing -but it worked as the parameter where you can pass another Point objec"
   ]
  },
  {
   "cell_type": "code",
   "execution_count": null,
   "metadata": {},
   "outputs": [],
   "source": [
    "import math\n",
    "\n",
    "class Point:\n",
    "    def move(self, x:float, y:float) -> None:\n",
    "        self.x = x\n",
    "        self.y = y\n",
    "    \n",
    "    def reset(self) -> None:\n",
    "        self.move(0, 0)\n",
    "    \n",
    "    def calculate_distance(self, other: \"Point\") -> float:\n",
    "        return math.hypot(self.x - other.x, self.y - other.y)\n",
    "\n",
    "\n",
    "point_1 = Point()\n",
    "point_2 = Point()\n",
    "\n",
    "point_1.reset()\n",
    "point_2.move(5, 0)\n",
    "print(point_2.calculate_distance(point_1))\n",
    "\n",
    "point_2.move(3,4)\n",
    "print(point_1.calculate_distance(point_2))\n",
    "print(point_1.calculate_distance(point_1))\n"
   ]
  },
  {
   "cell_type": "markdown",
   "metadata": {},
   "source": [
    "#### Initializing the object\n",
    "- it will throw an error if no arguemnt is provided during creatign an object like the point_2\n",
    "- Python is a little different; it has a constructor and an initializer.\n",
    "- The constructor method, __ new __(), is rarely used \n",
    "- we put our initialization statements in an __ init __() function\n"
   ]
  },
  {
   "cell_type": "code",
   "execution_count": 2,
   "metadata": {},
   "outputs": [
    {
     "name": "stdout",
     "output_type": "stream",
     "text": [
      "3 5\n"
     ]
    }
   ],
   "source": [
    "import math\n",
    "\n",
    "class Point:\n",
    "    def __init__(self, x:float, y:float) -> None:\n",
    "        self.move(x,y)\n",
    "    \n",
    "    def move(self, x:float, y:float) -> None:\n",
    "        self.x = x\n",
    "        self.y = y\n",
    "    \n",
    "    def reset(self) -> None:\n",
    "        self.move(0, 0)\n",
    "\n",
    "    def calculate_distance(self, other:\"Point\") -> float:\n",
    "        return math.hypot(self.x - other.x, self.y-other.y)\n",
    "\n",
    "point = Point(3, 5)\n",
    "print(point.x, point.y)\n",
    "\n",
    "#point_2 = Point()"
   ]
  }
 ],
 "metadata": {
  "kernelspec": {
   "display_name": "Python 3",
   "language": "python",
   "name": "python3"
  },
  "language_info": {
   "codemirror_mode": {
    "name": "ipython",
    "version": 3
   },
   "file_extension": ".py",
   "mimetype": "text/x-python",
   "name": "python",
   "nbconvert_exporter": "python",
   "pygments_lexer": "ipython3",
   "version": "3.10.12"
  }
 },
 "nbformat": 4,
 "nbformat_minor": 2
}
